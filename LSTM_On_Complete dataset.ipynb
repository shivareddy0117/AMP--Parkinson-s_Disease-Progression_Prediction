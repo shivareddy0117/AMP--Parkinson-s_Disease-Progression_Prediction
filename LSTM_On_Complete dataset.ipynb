{
 "cells": [
  {
   "cell_type": "code",
   "execution_count": 2,
   "id": "df2c4d8f",
   "metadata": {},
   "outputs": [],
   "source": [
    "import matplotlib.pyplot as plt\n",
    "import numpy as np\n",
    "import pandas as pd\n",
    "from keras.layers import Dropout\n",
    "from keras.regularizers import L2\n",
    "from keras.callbacks import EarlyStopping\n"
   ]
  },
  {
   "cell_type": "code",
   "execution_count": 3,
   "id": "3b1a4571",
   "metadata": {
    "scrolled": true
   },
   "outputs": [],
   "source": [
    "from sklearn.model_selection import train_test_split\n",
    "\n",
    "from keras.models import Sequential\n",
    "from keras.layers import Dense, LSTM"
   ]
  },
  {
   "cell_type": "code",
   "execution_count": 4,
   "id": "4d031225",
   "metadata": {},
   "outputs": [],
   "source": [
    "# Define the target variable\n",
    "target = 'updrs_1'"
   ]
  },
  {
   "cell_type": "code",
   "execution_count": 5,
   "id": "19b8eeaf",
   "metadata": {},
   "outputs": [],
   "source": [
    "# Scale the input features using MinMaxScaler\n",
    "from sklearn.preprocessing import MinMaxScaler\n",
    "scaler = MinMaxScaler()"
   ]
  },
  {
   "cell_type": "code",
   "execution_count": 6,
   "id": "dae7707d",
   "metadata": {},
   "outputs": [],
   "source": [
    "train= pd.read_csv('merged_train.csv')"
   ]
  },
  {
   "cell_type": "code",
   "execution_count": 7,
   "id": "17afed8b",
   "metadata": {},
   "outputs": [
    {
     "data": {
      "text/html": [
       "<div>\n",
       "<style scoped>\n",
       "    .dataframe tbody tr th:only-of-type {\n",
       "        vertical-align: middle;\n",
       "    }\n",
       "\n",
       "    .dataframe tbody tr th {\n",
       "        vertical-align: top;\n",
       "    }\n",
       "\n",
       "    .dataframe thead th {\n",
       "        text-align: right;\n",
       "    }\n",
       "</style>\n",
       "<table border=\"1\" class=\"dataframe\">\n",
       "  <thead>\n",
       "    <tr style=\"text-align: right;\">\n",
       "      <th></th>\n",
       "      <th>visit_month</th>\n",
       "      <th>patient_id</th>\n",
       "      <th>NPX</th>\n",
       "      <th>PeptideAbundance</th>\n",
       "      <th>updrs_1</th>\n",
       "      <th>updrs_2</th>\n",
       "      <th>updrs_3</th>\n",
       "      <th>updrs_4</th>\n",
       "    </tr>\n",
       "  </thead>\n",
       "  <tbody>\n",
       "    <tr>\n",
       "      <th>0</th>\n",
       "      <td>0</td>\n",
       "      <td>55</td>\n",
       "      <td>11254.3</td>\n",
       "      <td>11254.3</td>\n",
       "      <td>10.0</td>\n",
       "      <td>6.0</td>\n",
       "      <td>15.0</td>\n",
       "      <td>1.861763</td>\n",
       "    </tr>\n",
       "    <tr>\n",
       "      <th>1</th>\n",
       "      <td>0</td>\n",
       "      <td>55</td>\n",
       "      <td>732430.0</td>\n",
       "      <td>102060.0</td>\n",
       "      <td>10.0</td>\n",
       "      <td>6.0</td>\n",
       "      <td>15.0</td>\n",
       "      <td>1.861763</td>\n",
       "    </tr>\n",
       "    <tr>\n",
       "      <th>2</th>\n",
       "      <td>0</td>\n",
       "      <td>55</td>\n",
       "      <td>732430.0</td>\n",
       "      <td>174185.0</td>\n",
       "      <td>10.0</td>\n",
       "      <td>6.0</td>\n",
       "      <td>15.0</td>\n",
       "      <td>1.861763</td>\n",
       "    </tr>\n",
       "    <tr>\n",
       "      <th>3</th>\n",
       "      <td>0</td>\n",
       "      <td>55</td>\n",
       "      <td>732430.0</td>\n",
       "      <td>27278.9</td>\n",
       "      <td>10.0</td>\n",
       "      <td>6.0</td>\n",
       "      <td>15.0</td>\n",
       "      <td>1.861763</td>\n",
       "    </tr>\n",
       "    <tr>\n",
       "      <th>4</th>\n",
       "      <td>0</td>\n",
       "      <td>55</td>\n",
       "      <td>732430.0</td>\n",
       "      <td>30838.7</td>\n",
       "      <td>10.0</td>\n",
       "      <td>6.0</td>\n",
       "      <td>15.0</td>\n",
       "      <td>1.861763</td>\n",
       "    </tr>\n",
       "  </tbody>\n",
       "</table>\n",
       "</div>"
      ],
      "text/plain": [
       "   visit_month  patient_id       NPX  PeptideAbundance  updrs_1  updrs_2   \n",
       "0            0          55   11254.3           11254.3     10.0      6.0  \\\n",
       "1            0          55  732430.0          102060.0     10.0      6.0   \n",
       "2            0          55  732430.0          174185.0     10.0      6.0   \n",
       "3            0          55  732430.0           27278.9     10.0      6.0   \n",
       "4            0          55  732430.0           30838.7     10.0      6.0   \n",
       "\n",
       "   updrs_3   updrs_4  \n",
       "0     15.0  1.861763  \n",
       "1     15.0  1.861763  \n",
       "2     15.0  1.861763  \n",
       "3     15.0  1.861763  \n",
       "4     15.0  1.861763  "
      ]
     },
     "execution_count": 7,
     "metadata": {},
     "output_type": "execute_result"
    }
   ],
   "source": [
    "train.head()"
   ]
  },
  {
   "cell_type": "code",
   "execution_count": 8,
   "id": "d2f1652b",
   "metadata": {},
   "outputs": [],
   "source": [
    "train.drop(columns=['patient_id'], inplace = True)"
   ]
  },
  {
   "cell_type": "code",
   "execution_count": 9,
   "id": "60a89c1a",
   "metadata": {},
   "outputs": [
    {
     "data": {
      "text/html": [
       "<div>\n",
       "<style scoped>\n",
       "    .dataframe tbody tr th:only-of-type {\n",
       "        vertical-align: middle;\n",
       "    }\n",
       "\n",
       "    .dataframe tbody tr th {\n",
       "        vertical-align: top;\n",
       "    }\n",
       "\n",
       "    .dataframe thead th {\n",
       "        text-align: right;\n",
       "    }\n",
       "</style>\n",
       "<table border=\"1\" class=\"dataframe\">\n",
       "  <thead>\n",
       "    <tr style=\"text-align: right;\">\n",
       "      <th></th>\n",
       "      <th>visit_month</th>\n",
       "      <th>NPX</th>\n",
       "      <th>PeptideAbundance</th>\n",
       "      <th>updrs_1</th>\n",
       "      <th>updrs_2</th>\n",
       "      <th>updrs_3</th>\n",
       "      <th>updrs_4</th>\n",
       "    </tr>\n",
       "  </thead>\n",
       "  <tbody>\n",
       "    <tr>\n",
       "      <th>0</th>\n",
       "      <td>0</td>\n",
       "      <td>11254.3</td>\n",
       "      <td>11254.3</td>\n",
       "      <td>10.0</td>\n",
       "      <td>6.0</td>\n",
       "      <td>15.0</td>\n",
       "      <td>1.861763</td>\n",
       "    </tr>\n",
       "    <tr>\n",
       "      <th>1</th>\n",
       "      <td>0</td>\n",
       "      <td>732430.0</td>\n",
       "      <td>102060.0</td>\n",
       "      <td>10.0</td>\n",
       "      <td>6.0</td>\n",
       "      <td>15.0</td>\n",
       "      <td>1.861763</td>\n",
       "    </tr>\n",
       "    <tr>\n",
       "      <th>2</th>\n",
       "      <td>0</td>\n",
       "      <td>732430.0</td>\n",
       "      <td>174185.0</td>\n",
       "      <td>10.0</td>\n",
       "      <td>6.0</td>\n",
       "      <td>15.0</td>\n",
       "      <td>1.861763</td>\n",
       "    </tr>\n",
       "    <tr>\n",
       "      <th>3</th>\n",
       "      <td>0</td>\n",
       "      <td>732430.0</td>\n",
       "      <td>27278.9</td>\n",
       "      <td>10.0</td>\n",
       "      <td>6.0</td>\n",
       "      <td>15.0</td>\n",
       "      <td>1.861763</td>\n",
       "    </tr>\n",
       "    <tr>\n",
       "      <th>4</th>\n",
       "      <td>0</td>\n",
       "      <td>732430.0</td>\n",
       "      <td>30838.7</td>\n",
       "      <td>10.0</td>\n",
       "      <td>6.0</td>\n",
       "      <td>15.0</td>\n",
       "      <td>1.861763</td>\n",
       "    </tr>\n",
       "  </tbody>\n",
       "</table>\n",
       "</div>"
      ],
      "text/plain": [
       "   visit_month       NPX  PeptideAbundance  updrs_1  updrs_2  updrs_3   \n",
       "0            0   11254.3           11254.3     10.0      6.0     15.0  \\\n",
       "1            0  732430.0          102060.0     10.0      6.0     15.0   \n",
       "2            0  732430.0          174185.0     10.0      6.0     15.0   \n",
       "3            0  732430.0           27278.9     10.0      6.0     15.0   \n",
       "4            0  732430.0           30838.7     10.0      6.0     15.0   \n",
       "\n",
       "    updrs_4  \n",
       "0  1.861763  \n",
       "1  1.861763  \n",
       "2  1.861763  \n",
       "3  1.861763  \n",
       "4  1.861763  "
      ]
     },
     "execution_count": 9,
     "metadata": {},
     "output_type": "execute_result"
    }
   ],
   "source": [
    "train.head()"
   ]
  },
  {
   "cell_type": "code",
   "execution_count": 10,
   "id": "92b03fc4",
   "metadata": {},
   "outputs": [
    {
     "data": {
      "text/plain": [
       "(941744, 7)"
      ]
     },
     "execution_count": 10,
     "metadata": {},
     "output_type": "execute_result"
    }
   ],
   "source": [
    "train.shape"
   ]
  },
  {
   "cell_type": "code",
   "execution_count": 11,
   "id": "18fa443f",
   "metadata": {},
   "outputs": [
    {
     "data": {
      "text/plain": [
       "array([10., 11.,  2.,  1.,  8.,  6.,  9., 12.,  5.,  7.,  4., 17.,  3.,\n",
       "        0., 14., 16., 15., 20., 18., 13., 33., 28., 25., 26., 19., 21.,\n",
       "       24., 22., 23., 27.])"
      ]
     },
     "execution_count": 11,
     "metadata": {},
     "output_type": "execute_result"
    }
   ],
   "source": [
    "train['updrs_1'].unique()"
   ]
  },
  {
   "cell_type": "code",
   "execution_count": 12,
   "id": "e9a608f3",
   "metadata": {},
   "outputs": [
    {
     "data": {
      "text/plain": [
       "30"
      ]
     },
     "execution_count": 12,
     "metadata": {},
     "output_type": "execute_result"
    }
   ],
   "source": [
    "train['updrs_1'].nunique()"
   ]
  },
  {
   "cell_type": "code",
   "execution_count": 13,
   "id": "a8324f46",
   "metadata": {},
   "outputs": [
    {
     "data": {
      "text/plain": [
       "array([ 6.,  0.,  2., 13.,  1.,  7.,  5., 11.,  8.,  3., 20., 15.,  9.,\n",
       "       10.,  4., 12., 22., 14., 16., 27., 17., 28., 19., 21., 24., 18.,\n",
       "       23., 26., 29.])"
      ]
     },
     "execution_count": 13,
     "metadata": {},
     "output_type": "execute_result"
    }
   ],
   "source": [
    "train['updrs_2'].unique()"
   ]
  },
  {
   "cell_type": "code",
   "execution_count": 14,
   "id": "164209b9",
   "metadata": {},
   "outputs": [
    {
     "data": {
      "text/plain": [
       "29"
      ]
     },
     "execution_count": 14,
     "metadata": {},
     "output_type": "execute_result"
    }
   ],
   "source": [
    "train['updrs_2'].nunique()"
   ]
  },
  {
   "cell_type": "code",
   "execution_count": 15,
   "id": "7cea076c",
   "metadata": {},
   "outputs": [
    {
     "data": {
      "text/plain": [
       "array([15.        , 25.        ,  0.        ,  9.        , 36.        ,\n",
       "        3.        , 17.        , 38.        , 18.        , 16.        ,\n",
       "       11.        , 13.        ,  2.        , 21.        ,  5.        ,\n",
       "       30.        ,  1.        , 14.        , 22.        , 33.        ,\n",
       "        7.        , 19.        , 28.        , 12.        , 20.        ,\n",
       "       46.        , 41.        , 29.        , 23.        ,  6.        ,\n",
       "       10.        , 26.        , 40.        ,  4.        , 39.        ,\n",
       "        8.        , 24.        , 47.        , 32.        , 31.        ,\n",
       "       34.        , 27.        , 56.        , 52.        , 35.        ,\n",
       "       19.42123552, 51.        , 44.        , 68.        , 43.        ,\n",
       "       67.        , 61.        , 45.        , 59.        , 37.        ,\n",
       "       48.        , 42.        , 60.        , 55.        , 49.        ,\n",
       "       63.        , 78.        , 58.        , 50.        , 66.        ])"
      ]
     },
     "execution_count": 15,
     "metadata": {},
     "output_type": "execute_result"
    }
   ],
   "source": [
    "train['updrs_3'].unique()"
   ]
  },
  {
   "cell_type": "code",
   "execution_count": 16,
   "id": "5800db55",
   "metadata": {},
   "outputs": [
    {
     "data": {
      "text/plain": [
       "65"
      ]
     },
     "execution_count": 16,
     "metadata": {},
     "output_type": "execute_result"
    }
   ],
   "source": [
    "train['updrs_3'].nunique()"
   ]
  },
  {
   "cell_type": "code",
   "execution_count": 17,
   "id": "d742872a",
   "metadata": {},
   "outputs": [
    {
     "data": {
      "text/plain": [
       "array([ 1.86176284,  5.        ,  4.        ,  0.        ,  2.        ,\n",
       "        3.        , 10.        ,  6.        ,  9.        ,  1.        ,\n",
       "        7.        ,  8.        , 11.        , 13.        , 14.        ,\n",
       "       12.        , 20.        , 16.        ])"
      ]
     },
     "execution_count": 17,
     "metadata": {},
     "output_type": "execute_result"
    }
   ],
   "source": [
    "train['updrs_4'].unique()"
   ]
  },
  {
   "cell_type": "code",
   "execution_count": 18,
   "id": "ec26797b",
   "metadata": {},
   "outputs": [
    {
     "data": {
      "text/plain": [
       "18"
      ]
     },
     "execution_count": 18,
     "metadata": {},
     "output_type": "execute_result"
    }
   ],
   "source": [
    "train['updrs_4'].nunique()"
   ]
  },
  {
   "cell_type": "code",
   "execution_count": 19,
   "id": "8e357753",
   "metadata": {},
   "outputs": [
    {
     "data": {
      "text/plain": [
       "array([  0,   3,   6,  12,  18,  24,  30,  36,  48,  54,  60,  72,  84,\n",
       "        96, 108], dtype=int64)"
      ]
     },
     "execution_count": 19,
     "metadata": {},
     "output_type": "execute_result"
    }
   ],
   "source": [
    "train['visit_month'].unique()"
   ]
  },
  {
   "cell_type": "code",
   "execution_count": 20,
   "id": "d4e4a28b",
   "metadata": {},
   "outputs": [
    {
     "data": {
      "text/plain": [
       "15"
      ]
     },
     "execution_count": 20,
     "metadata": {},
     "output_type": "execute_result"
    }
   ],
   "source": [
    "train['visit_month'].nunique()"
   ]
  },
  {
   "cell_type": "code",
   "execution_count": 21,
   "id": "853aa7aa",
   "metadata": {},
   "outputs": [
    {
     "data": {
      "text/plain": [
       "array([ 11254.3, 732430. ,  39585.8, ..., 369437. , 105830. ,  21257.6])"
      ]
     },
     "execution_count": 21,
     "metadata": {},
     "output_type": "execute_result"
    }
   ],
   "source": [
    "train['NPX'].unique()"
   ]
  },
  {
   "cell_type": "code",
   "execution_count": 22,
   "id": "bf8f99a9",
   "metadata": {},
   "outputs": [
    {
     "data": {
      "text/plain": [
       "210353"
      ]
     },
     "execution_count": 22,
     "metadata": {},
     "output_type": "execute_result"
    }
   ],
   "source": [
    "train['NPX'].nunique()"
   ]
  },
  {
   "cell_type": "code",
   "execution_count": 23,
   "id": "321a33cf",
   "metadata": {},
   "outputs": [
    {
     "data": {
      "text/plain": [
       "array([ 11254.3 , 102060.  , 174185.  , ..., 105830.  ,   5127.26,\n",
       "        12825.9 ])"
      ]
     },
     "execution_count": 23,
     "metadata": {},
     "output_type": "execute_result"
    }
   ],
   "source": [
    "train['PeptideAbundance'].unique()"
   ]
  },
  {
   "cell_type": "code",
   "execution_count": 24,
   "id": "8080115c",
   "metadata": {},
   "outputs": [
    {
     "data": {
      "text/plain": [
       "715930"
      ]
     },
     "execution_count": 24,
     "metadata": {},
     "output_type": "execute_result"
    }
   ],
   "source": [
    "train['PeptideAbundance'].nunique()"
   ]
  },
  {
   "cell_type": "code",
   "execution_count": null,
   "id": "a766b8fa",
   "metadata": {},
   "outputs": [],
   "source": []
  },
  {
   "cell_type": "code",
   "execution_count": 25,
   "id": "3f23cedd",
   "metadata": {},
   "outputs": [
    {
     "data": {
      "text/html": [
       "<div>\n",
       "<style scoped>\n",
       "    .dataframe tbody tr th:only-of-type {\n",
       "        vertical-align: middle;\n",
       "    }\n",
       "\n",
       "    .dataframe tbody tr th {\n",
       "        vertical-align: top;\n",
       "    }\n",
       "\n",
       "    .dataframe thead th {\n",
       "        text-align: right;\n",
       "    }\n",
       "</style>\n",
       "<table border=\"1\" class=\"dataframe\">\n",
       "  <thead>\n",
       "    <tr style=\"text-align: right;\">\n",
       "      <th></th>\n",
       "      <th>visit_month</th>\n",
       "      <th>NPX</th>\n",
       "      <th>PeptideAbundance</th>\n",
       "      <th>updrs_1</th>\n",
       "      <th>updrs_2</th>\n",
       "      <th>updrs_3</th>\n",
       "      <th>updrs_4</th>\n",
       "    </tr>\n",
       "  </thead>\n",
       "  <tbody>\n",
       "    <tr>\n",
       "      <th>0</th>\n",
       "      <td>0</td>\n",
       "      <td>11254.3</td>\n",
       "      <td>11254.3</td>\n",
       "      <td>10.0</td>\n",
       "      <td>6.0</td>\n",
       "      <td>15.0</td>\n",
       "      <td>1.861763</td>\n",
       "    </tr>\n",
       "    <tr>\n",
       "      <th>1</th>\n",
       "      <td>0</td>\n",
       "      <td>732430.0</td>\n",
       "      <td>102060.0</td>\n",
       "      <td>10.0</td>\n",
       "      <td>6.0</td>\n",
       "      <td>15.0</td>\n",
       "      <td>1.861763</td>\n",
       "    </tr>\n",
       "    <tr>\n",
       "      <th>2</th>\n",
       "      <td>0</td>\n",
       "      <td>732430.0</td>\n",
       "      <td>174185.0</td>\n",
       "      <td>10.0</td>\n",
       "      <td>6.0</td>\n",
       "      <td>15.0</td>\n",
       "      <td>1.861763</td>\n",
       "    </tr>\n",
       "    <tr>\n",
       "      <th>3</th>\n",
       "      <td>0</td>\n",
       "      <td>732430.0</td>\n",
       "      <td>27278.9</td>\n",
       "      <td>10.0</td>\n",
       "      <td>6.0</td>\n",
       "      <td>15.0</td>\n",
       "      <td>1.861763</td>\n",
       "    </tr>\n",
       "    <tr>\n",
       "      <th>4</th>\n",
       "      <td>0</td>\n",
       "      <td>732430.0</td>\n",
       "      <td>30838.7</td>\n",
       "      <td>10.0</td>\n",
       "      <td>6.0</td>\n",
       "      <td>15.0</td>\n",
       "      <td>1.861763</td>\n",
       "    </tr>\n",
       "  </tbody>\n",
       "</table>\n",
       "</div>"
      ],
      "text/plain": [
       "   visit_month       NPX  PeptideAbundance  updrs_1  updrs_2  updrs_3   \n",
       "0            0   11254.3           11254.3     10.0      6.0     15.0  \\\n",
       "1            0  732430.0          102060.0     10.0      6.0     15.0   \n",
       "2            0  732430.0          174185.0     10.0      6.0     15.0   \n",
       "3            0  732430.0           27278.9     10.0      6.0     15.0   \n",
       "4            0  732430.0           30838.7     10.0      6.0     15.0   \n",
       "\n",
       "    updrs_4  \n",
       "0  1.861763  \n",
       "1  1.861763  \n",
       "2  1.861763  \n",
       "3  1.861763  \n",
       "4  1.861763  "
      ]
     },
     "execution_count": 25,
     "metadata": {},
     "output_type": "execute_result"
    }
   ],
   "source": [
    "train.head()"
   ]
  },
  {
   "cell_type": "code",
   "execution_count": null,
   "id": "f915a50f",
   "metadata": {},
   "outputs": [],
   "source": []
  },
  {
   "cell_type": "code",
   "execution_count": 26,
   "id": "213b7838",
   "metadata": {},
   "outputs": [],
   "source": [
    "from sklearn.preprocessing import StandardScaler\n",
    "\n",
    "scaler = StandardScaler()\n"
   ]
  },
  {
   "cell_type": "code",
   "execution_count": 27,
   "id": "19b46123",
   "metadata": {},
   "outputs": [],
   "source": [
    "target = 'updrs_3' #['updrs_1', 'updrs_2', 'updrs_3', 'updrs_4']"
   ]
  },
  {
   "cell_type": "code",
   "execution_count": 28,
   "id": "68a8f11c",
   "metadata": {},
   "outputs": [],
   "source": [
    "train1=train.drop(columns=['updrs_1', 'updrs_2',  'updrs_4'])"
   ]
  },
  {
   "cell_type": "code",
   "execution_count": 29,
   "id": "90c3dbf6",
   "metadata": {},
   "outputs": [],
   "source": [
    "train_scaled=scaler.fit_transform(train1.drop(target, axis=1))"
   ]
  },
  {
   "cell_type": "code",
   "execution_count": 30,
   "id": "653b2a85",
   "metadata": {},
   "outputs": [
    {
     "data": {
      "text/plain": [
       "(941744, 3)"
      ]
     },
     "execution_count": 30,
     "metadata": {},
     "output_type": "execute_result"
    }
   ],
   "source": [
    "train_scaled.shape"
   ]
  },
  {
   "cell_type": "code",
   "execution_count": 31,
   "id": "7611c6e3",
   "metadata": {},
   "outputs": [],
   "source": [
    "# Create sequences for the LSTM model\n",
    "sequence_length = 10\n",
    "X, y = [], []\n",
    "\n",
    "for i in range(len(train_scaled) - sequence_length):\n",
    "    X.append(train_scaled[i:i+sequence_length])\n",
    "    y.append(train[target].iloc[i+sequence_length])\n",
    "\n",
    "X, y = np.array(X), np.array(y)\n"
   ]
  },
  {
   "cell_type": "code",
   "execution_count": 32,
   "id": "3323c236",
   "metadata": {},
   "outputs": [],
   "source": [
    "\n",
    "X_train, X_test, y_train, y_test = train_test_split(X, y, test_size=0.2, random_state=42)"
   ]
  },
  {
   "cell_type": "code",
   "execution_count": 33,
   "id": "6331fe0c",
   "metadata": {},
   "outputs": [],
   "source": [
    "# Define the LSTM model with L2 regularization and dropout layers\n",
    "model = Sequential()\n",
    "model.add(LSTM(50, activation='relu', input_shape=(X_train.shape[1], X_train.shape[2]), kernel_regularizer=L2(0.001), recurrent_regularizer=L2(0.001), bias_regularizer=L2(0.001)))\n",
    "model.add(Dropout(0.5))  # Add dropout layer with 50% dropout rate\n",
    "model.add(Dense(1))\n",
    "model.compile(optimizer='adam', loss='mae')\n"
   ]
  },
  {
   "cell_type": "code",
   "execution_count": 34,
   "id": "d724649f",
   "metadata": {
    "scrolled": false
   },
   "outputs": [
    {
     "name": "stdout",
     "output_type": "stream",
     "text": [
      "Epoch 1/100\n",
      "23544/23544 [==============================] - 148s 6ms/step - loss: 12.4656 - val_loss: 12.2980\n",
      "Epoch 2/100\n",
      "23544/23544 [==============================] - 148s 6ms/step - loss: 12.3045 - val_loss: 12.2649\n",
      "Epoch 3/100\n",
      "23544/23544 [==============================] - 343s 15ms/step - loss: 12.2554 - val_loss: 12.2493\n",
      "Epoch 4/100\n",
      "23544/23544 [==============================] - 139s 6ms/step - loss: 12.2208 - val_loss: 12.2276\n",
      "Epoch 5/100\n",
      "23544/23544 [==============================] - 10392s 441ms/step - loss: 12.1985 - val_loss: 12.2223\n",
      "Epoch 6/100\n",
      "23544/23544 [==============================] - 132s 6ms/step - loss: 12.1903 - val_loss: 12.1977\n",
      "Epoch 7/100\n",
      "23544/23544 [==============================] - 136s 6ms/step - loss: 12.1568 - val_loss: 12.1750\n",
      "Epoch 8/100\n",
      "23544/23544 [==============================] - 4688s 199ms/step - loss: 12.1517 - val_loss: 12.1806\n",
      "Epoch 9/100\n",
      "23544/23544 [==============================] - 152s 6ms/step - loss: 12.1478 - val_loss: 12.1730\n",
      "Epoch 10/100\n",
      "23544/23544 [==============================] - 4076s 173ms/step - loss: 12.1462 - val_loss: 12.1637\n",
      "Epoch 11/100\n",
      "23544/23544 [==============================] - 151s 6ms/step - loss: 12.1451 - val_loss: 12.1727\n",
      "Epoch 12/100\n",
      "23544/23544 [==============================] - 824s 35ms/step - loss: 12.1440 - val_loss: 12.1751\n",
      "Epoch 13/100\n",
      "23544/23544 [==============================] - 135s 6ms/step - loss: 12.1382 - val_loss: 12.1636\n",
      "Epoch 14/100\n",
      "23544/23544 [==============================] - 135s 6ms/step - loss: 12.1373 - val_loss: 12.1602\n",
      "Epoch 15/100\n",
      "23544/23544 [==============================] - 130s 6ms/step - loss: 12.1368 - val_loss: 12.1847\n",
      "Epoch 16/100\n",
      "23544/23544 [==============================] - 134s 6ms/step - loss: 12.1398 - val_loss: 12.1773\n",
      "Epoch 17/100\n",
      "23544/23544 [==============================] - 144s 6ms/step - loss: 12.1369 - val_loss: 12.1897\n",
      "Epoch 18/100\n",
      "23544/23544 [==============================] - 201s 9ms/step - loss: 12.1368 - val_loss: 12.1587\n",
      "Epoch 19/100\n",
      "23544/23544 [==============================] - 141s 6ms/step - loss: 12.1328 - val_loss: 12.1795\n",
      "Epoch 20/100\n",
      "23544/23544 [==============================] - 1601s 68ms/step - loss: 12.1417 - val_loss: 12.1682\n",
      "Epoch 21/100\n",
      "23544/23544 [==============================] - 137s 6ms/step - loss: 12.1366 - val_loss: 12.1752\n",
      "Epoch 22/100\n",
      "23544/23544 [==============================] - 1176s 50ms/step - loss: 12.1412 - val_loss: 12.1808\n",
      "Epoch 23/100\n",
      "23544/23544 [==============================] - 129s 5ms/step - loss: 12.1353 - val_loss: 12.1521\n",
      "Epoch 24/100\n",
      "23544/23544 [==============================] - 143s 6ms/step - loss: 12.1317 - val_loss: 12.1536\n",
      "Epoch 25/100\n",
      "23544/23544 [==============================] - 144s 6ms/step - loss: 12.1329 - val_loss: 12.1589\n",
      "Epoch 26/100\n",
      "23544/23544 [==============================] - 1180s 50ms/step - loss: 12.1378 - val_loss: 12.1668\n",
      "Epoch 27/100\n",
      "23544/23544 [==============================] - 136s 6ms/step - loss: 12.1385 - val_loss: 12.1697\n",
      "Epoch 28/100\n",
      "23544/23544 [==============================] - 143s 6ms/step - loss: 12.1362 - val_loss: 12.1598\n",
      "Epoch 29/100\n",
      "23544/23544 [==============================] - 142s 6ms/step - loss: 12.1346 - val_loss: 12.1501\n",
      "Epoch 30/100\n",
      "23544/23544 [==============================] - 159s 7ms/step - loss: 12.1343 - val_loss: 12.1503\n",
      "Epoch 31/100\n",
      "23544/23544 [==============================] - 143s 6ms/step - loss: 12.1331 - val_loss: 12.1444\n",
      "Epoch 32/100\n",
      "23544/23544 [==============================] - 140s 6ms/step - loss: 12.1350 - val_loss: 12.1440\n",
      "Epoch 33/100\n",
      "23544/23544 [==============================] - 168s 7ms/step - loss: 12.1439 - val_loss: 12.1811\n",
      "Epoch 34/100\n",
      "23544/23544 [==============================] - 165s 7ms/step - loss: 12.1467 - val_loss: 12.1647\n",
      "Epoch 35/100\n",
      "23544/23544 [==============================] - 184s 8ms/step - loss: 12.1381 - val_loss: 12.1606\n",
      "Epoch 36/100\n",
      "23544/23544 [==============================] - 205s 9ms/step - loss: 12.1431 - val_loss: 12.1622\n",
      "Epoch 37/100\n",
      "23544/23544 [==============================] - 2252s 96ms/step - loss: 12.1415 - val_loss: 12.1686\n",
      "Epoch 38/100\n",
      "23544/23544 [==============================] - 140s 6ms/step - loss: 12.1431 - val_loss: 12.1848\n",
      "Epoch 39/100\n",
      "23544/23544 [==============================] - 135s 6ms/step - loss: 12.1402 - val_loss: 12.1513\n",
      "Epoch 40/100\n",
      "23544/23544 [==============================] - 138s 6ms/step - loss: 12.1408 - val_loss: 12.1484\n",
      "Epoch 41/100\n",
      "23544/23544 [==============================] - 140s 6ms/step - loss: 12.1354 - val_loss: 12.1644\n",
      "Epoch 42/100\n",
      "23544/23544 [==============================] - 907s 39ms/step - loss: 12.1373 - val_loss: 12.1609\n"
     ]
    }
   ],
   "source": [
    "# Define early stopping callback\n",
    "early_stopping = EarlyStopping(monitor='val_loss', patience=10, restore_best_weights=True)\n",
    "\n",
    "# Train the LSTM model with early stopping\n",
    "history=model.fit(X_train, y_train, epochs=100, batch_size=32, validation_data=(X_test, y_test), verbose=1, shuffle=False, callbacks=[early_stopping])\n"
   ]
  },
  {
   "cell_type": "code",
   "execution_count": null,
   "id": "1b70ff0d",
   "metadata": {},
   "outputs": [],
   "source": [
    "it took 7h"
   ]
  },
  {
   "cell_type": "code",
   "execution_count": 35,
   "id": "a475f7c5",
   "metadata": {
    "scrolled": true
   },
   "outputs": [
    {
     "data": {
      "image/png": "[encoded data removed]",
      "text/plain": [
       "<Figure size 1000x600 with 1 Axes>"
      ]
     },
     "metadata": {},
     "output_type": "display_data"
    }
   ],
   "source": [
    "# Plot training and validation loss\n",
    "plt.figure(figsize=(10, 6))\n",
    "plt.plot(history.history['loss'], label='Training Loss')\n",
    "plt.plot(history.history['val_loss'], label='Validation Loss')\n",
    "plt.xlabel('Epochs')\n",
    "plt.ylabel('Loss')\n",
    "plt.title('LSTM Training and Validation Loss')\n",
    "plt.legend()\n",
    "plt.show()"
   ]
  },
  {
   "cell_type": "code",
   "execution_count": 36,
   "id": "12252bc2",
   "metadata": {},
   "outputs": [
    {
     "name": "stdout",
     "output_type": "stream",
     "text": [
      "5886/5886 [==============================] - 13s 2ms/step\n",
      "MAE: 12.111405912037926\n",
      "RMSE: 14.755532585489341\n",
      "R^2 score: 0.028929540145687604\n"
     ]
    }
   ],
   "source": [
    "from sklearn.metrics import mean_absolute_error, mean_squared_error, r2_score\n",
    "\n",
    "# Predict on the test set\n",
    "y_pred = model.predict(X_test)\n",
    "\n",
    "# Calculate the mean absolute error (MAE)\n",
    "mae = mean_absolute_error(y_test, y_pred)\n",
    "print('MAE:', mae)\n",
    "\n",
    "# Calculate the root mean squared error (RMSE)\n",
    "rmse = mean_squared_error(y_test, y_pred, squared=False)\n",
    "print('RMSE:', rmse)\n",
    "r2 = r2_score(y_test, y_pred)\n",
    "print('R^2 score:', r2)"
   ]
  },
  {
   "cell_type": "code",
   "execution_count": 37,
   "id": "96c7de10",
   "metadata": {},
   "outputs": [],
   "source": [
    "test=pd.read_csv('merged_test.csv')"
   ]
  },
  {
   "cell_type": "code",
   "execution_count": 38,
   "id": "09c348c5",
   "metadata": {},
   "outputs": [],
   "source": [
    "test.drop(columns=['patient_id'],inplace =True)"
   ]
  },
  {
   "cell_type": "code",
   "execution_count": 39,
   "id": "b211439d",
   "metadata": {},
   "outputs": [],
   "source": [
    "test_scaled=scaler.fit_transform(test)"
   ]
  },
  {
   "cell_type": "code",
   "execution_count": 40,
   "id": "f4c371b6",
   "metadata": {},
   "outputs": [
    {
     "name": "stdout",
     "output_type": "stream",
     "text": [
      "64/64 [==============================] - 0s 2ms/step\n"
     ]
    }
   ],
   "source": [
    "# Create sequences for the LSTM model\n",
    "X_test_seq = []\n",
    "\n",
    "for i in range(len(test_scaled) - sequence_length):\n",
    "    X_test_seq.append(test_scaled[i:i+sequence_length])\n",
    "\n",
    "X_test_seq = np.array(X_test_seq)\n",
    "\n",
    "# Make predictions using the trained LSTM model\n",
    "test_predictions = model.predict(X_test_seq)"
   ]
  },
  {
   "cell_type": "code",
   "execution_count": 41,
   "id": "10616cdb",
   "metadata": {},
   "outputs": [
    {
     "name": "stdout",
     "output_type": "stream",
     "text": [
      "[[23.166733]\n",
      " [23.166588]\n",
      " [23.164843]\n",
      " ...\n",
      " [16.633175]\n",
      " [16.6295  ]\n",
      " [16.62912 ]]\n"
     ]
    }
   ],
   "source": [
    "print(test_predictions)"
   ]
  },
  {
   "cell_type": "code",
   "execution_count": 42,
   "id": "2aaa4a62",
   "metadata": {},
   "outputs": [
    {
     "data": {
      "text/plain": [
       "(array([  2.,   1.,   1.,  13.,  22., 981.,   9.,   1.,  10.,  13.,   6.,\n",
       "          8.,   4.,   6.,   2.,   3.,   5.,  13., 423., 524.]),\n",
       " array([14.01085949, 14.49211884, 14.97337723, 15.45463657, 15.93589497,\n",
       "        16.41715431, 16.8984127 , 17.3796711 , 17.8609314 , 18.34218979,\n",
       "        18.82344818, 19.30470848, 19.78596687, 20.26722527, 20.74848366,\n",
       "        21.22974396, 21.71100235, 22.19226074, 22.67351913, 23.15477943,\n",
       "        23.63603783]),\n",
       " <BarContainer object of 20 artists>)"
      ]
     },
     "execution_count": 42,
     "metadata": {},
     "output_type": "execute_result"
    },
    {
     "data": {
      "image/png": "[encoded data removed]",
      "text/plain": [
       "<Figure size 640x480 with 1 Axes>"
      ]
     },
     "metadata": {},
     "output_type": "display_data"
    }
   ],
   "source": [
    "plt.hist(test_predictions,bins= 20)"
   ]
  }
 ],
 "metadata": {
  "kernelspec": {
   "display_name": "Python 3 (ipykernel)",
   "language": "python",
   "name": "python3"
  },
  "language_info": {
   "codemirror_mode": {
    "name": "ipython",
    "version": 3
   },
   "file_extension": ".py",
   "mimetype": "text/x-python",
   "name": "python",
   "nbconvert_exporter": "python",
   "pygments_lexer": "ipython3",
   "version": "3.11.3"
  }
 },
 "nbformat": 4,
 "nbformat_minor": 5
}
