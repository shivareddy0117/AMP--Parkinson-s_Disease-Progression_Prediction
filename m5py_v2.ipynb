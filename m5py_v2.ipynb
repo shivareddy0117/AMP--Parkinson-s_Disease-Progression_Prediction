{
 "cells": [
  {
   "cell_type": "markdown",
   "id": "a978ab92",
   "metadata": {},
   "source": [
    "Because of the size constrain to upload the file in github I am uploading without running the cells"
   ]
  },
  {
   "cell_type": "code",
   "execution_count": null,
   "id": "df2c4d8f",
   "metadata": {},
   "outputs": [],
   "source": [
    "import numpy as np\n",
    "import pandas as pd\n",
    "import matplotlib.pyplot as plt\n",
    "from sklearn.model_selection import train_test_split"
   ]
  },
  {
   "cell_type": "code",
   "execution_count": null,
   "id": "22b129f5",
   "metadata": {
    "scrolled": true
   },
   "outputs": [],
   "source": [
    "from sklearn.tree import DecisionTreeRegressor, export_text\n",
    "from m5py import M5Prime"
   ]
  },
  {
   "cell_type": "code",
   "execution_count": null,
   "id": "9756fd07",
   "metadata": {},
   "outputs": [],
   "source": [
    "# Scale the input features using MinMaxScaler\n",
    "from sklearn.preprocessing import MinMaxScaler\n",
    "scaler = MinMaxScaler()"
   ]
  },
  {
   "cell_type": "code",
   "execution_count": null,
   "id": "ad7daa47",
   "metadata": {},
   "outputs": [],
   "source": [
    "train=pd.read_csv('merged_train.csv')"
   ]
  },
  {
   "cell_type": "code",
   "execution_count": null,
   "id": "3c3bbd68",
   "metadata": {},
   "outputs": [],
   "source": [
    "train.drop(columns=['patient_id'], inplace=True)"
   ]
  },
  {
   "cell_type": "code",
   "execution_count": null,
   "id": "bb9b4531",
   "metadata": {},
   "outputs": [],
   "source": [
    "# Define the target variable\n",
    "target = 'updrs_3' # ['updrs_1','updrs_2','updrs_3','updrs_4',]"
   ]
  },
  {
   "cell_type": "code",
   "execution_count": null,
   "id": "45b2eb45",
   "metadata": {},
   "outputs": [],
   "source": [
    "plt.hist(train['updrs_3'], bins=20)\n",
    "plt.xlabel('updrs_3')\n",
    "plt.ylabel('Frequency')\n",
    "plt.title('Distribution of predicted updrs_3 values')\n",
    "plt.show()"
   ]
  },
  {
   "cell_type": "code",
   "execution_count": null,
   "id": "76e63bca",
   "metadata": {},
   "outputs": [],
   "source": [
    "train.drop(columns=['updrs_1','updrs_2','updrs_4',], inplace=True)"
   ]
  },
  {
   "cell_type": "code",
   "execution_count": null,
   "id": "79e2f6b1",
   "metadata": {},
   "outputs": [],
   "source": [
    "train_scaled=scaler.fit_transform(train.drop(target, axis=1))"
   ]
  },
  {
   "cell_type": "code",
   "execution_count": null,
   "id": "d14046cc",
   "metadata": {},
   "outputs": [],
   "source": [
    "train_scaled.shape"
   ]
  },
  {
   "cell_type": "code",
   "execution_count": null,
   "id": "e7463fec",
   "metadata": {},
   "outputs": [],
   "source": [
    "# Split the dataset into training and testing sets\n",
    "X_train, X_test, y_train, y_test = train_test_split(train_scaled, train[target], test_size=0.2, random_state=42)"
   ]
  },
  {
   "cell_type": "code",
   "execution_count": null,
   "id": "4fdf845a",
   "metadata": {},
   "outputs": [],
   "source": [
    "regr_1 = M5Prime(use_smoothing=False, use_pruning=False)\n",
    "regr_1_label = \"Tree 1\"\n",
    "regr_1.fit(train_scaled, train[target])\n",
    "regr_2 = M5Prime(use_smoothing=False)\n",
    "regr_2_label = \"Tree 2\"\n",
    "regr_2.fit(train_scaled, train[target])\n",
    "regr_3 = M5Prime(smoothing_constant=5)\n",
    "regr_3_label = \"Tree 3\"\n",
    "regr_3.fit(train_scaled, train[target])"
   ]
  },
  {
   "cell_type": "code",
   "execution_count": null,
   "id": "ac58f9b2",
   "metadata": {},
   "outputs": [],
   "source": [
    "y_1 = regr_1.predict(X_test)\n",
    "y_2 = regr_2.predict(X_test)\n",
    "y_3 = regr_3.predict(X_test)"
   ]
  },
  {
   "cell_type": "code",
   "execution_count": null,
   "id": "a3471839",
   "metadata": {},
   "outputs": [],
   "source": [
    "print(\"\\n----- %s\" % regr_2_label)\n",
    "print(regr_2.as_pretty_text())"
   ]
  },
  {
   "cell_type": "code",
   "execution_count": null,
   "id": "4534f7e5",
   "metadata": {},
   "outputs": [],
   "source": [
    "from sklearn.metrics import mean_squared_error, r2_score"
   ]
  },
  {
   "cell_type": "code",
   "execution_count": null,
   "id": "7c567545",
   "metadata": {},
   "outputs": [],
   "source": [
    "# Calculate MSE and R-squared for model 1\n",
    "mse_1 = mean_squared_error(y_test, y_1)\n",
    "r2_1 = r2_score(y_test, y_1)\n",
    "print(f\"Model 1: MSE = {mse_1:.2f}, R-squared = {r2_1:.2f}\")\n",
    "\n",
    "# Calculate MSE and R-squared for model 2\n",
    "mse_2 = mean_squared_error(y_test, y_2)\n",
    "r2_2 = r2_score(y_test, y_2)\n",
    "print(f\"Model 2: MSE = {mse_2:.2f}, R-squared = {r2_2:.2f}\")\n",
    "\n",
    "# Calculate MSE and R-squared for model 3\n",
    "mse_3 = mean_squared_error(y_test, y_3)\n",
    "r2_3 = r2_score(y_test, y_3)\n",
    "print(f\"Model 3: MSE = {mse_3:.2f}, R-squared = {r2_3:.2f}\")"
   ]
  },
  {
   "cell_type": "code",
   "execution_count": null,
   "id": "e5f22901",
   "metadata": {},
   "outputs": [],
   "source": [
    "fig, axs = plt.subplots(1, 3, figsize=(12, 4))\n",
    "\n",
    "# Create scatterplots for each model\n",
    "axs[0].scatter(y_test, y_1, alpha=0.1)\n",
    "axs[1].scatter(y_test, y_2, alpha=0.1)\n",
    "axs[2].scatter(y_test, y_3, alpha=0.1)\n",
    "\n",
    "# Add diagonal lines for reference\n",
    "for ax in axs:\n",
    "    ax.plot([y_test.min(), y_test.max()], [y_test.min(), y_test.max()], 'k--')\n",
    "\n",
    "# Set the axis labels and title for each subplot\n",
    "axs[0].set_xlabel('Actual Values')\n",
    "axs[0].set_ylabel('Predicted Values')\n",
    "axs[0].set_title('Model 1')\n",
    "\n",
    "axs[1].set_xlabel('Actual Values')\n",
    "axs[1].set_ylabel('Predicted Values')\n",
    "axs[1].set_title('Model 2')\n",
    "\n",
    "axs[2].set_xlabel('Actual Values')\n",
    "axs[2].set_ylabel('Predicted Values')\n",
    "axs[2].set_title('Model 3')\n",
    "\n",
    "# Set the main title for the entire plot\n",
    "fig.suptitle('Actual vs Predicted Values for Large Dataset')\n",
    "\n",
    "# Adjust the spacing between subplots\n",
    "plt.subplots_adjust(wspace=0.3)\n",
    "\n",
    "# Show the plot\n",
    "plt.show()"
   ]
  },
  {
   "cell_type": "code",
   "execution_count": null,
   "id": "a792448e",
   "metadata": {},
   "outputs": [],
   "source": [
    "test=pd.read_csv('merged_test.csv')\n",
    "test.drop(columns=['patient_id'],inplace =True)\n",
    "test_scaled=scaler.fit_transform(test)\n",
    "\n",
    "y_pred_test = regr_1.predict(test_scaled)\n",
    "print(y_pred_test)"
   ]
  },
  {
   "cell_type": "code",
   "execution_count": null,
   "id": "96e30ff3",
   "metadata": {},
   "outputs": [],
   "source": [
    "plt.hist(y_pred_test, bins=20)\n",
    "plt.xlabel('updrs_3')\n",
    "plt.ylabel('Frequency')\n",
    "plt.title('Distribution of predicted updrs_3 values')\n",
    "plt.show()"
   ]
  }
 ],
 "metadata": {
  "kernelspec": {
   "display_name": "Python 3 (ipykernel)",
   "language": "python",
   "name": "python3"
  },
  "language_info": {
   "codemirror_mode": {
    "name": "ipython",
    "version": 3
   },
   "file_extension": ".py",
   "mimetype": "text/x-python",
   "name": "python",
   "nbconvert_exporter": "python",
   "pygments_lexer": "ipython3",
   "version": "3.11.3"
  }
 },
 "nbformat": 4,
 "nbformat_minor": 5
}
